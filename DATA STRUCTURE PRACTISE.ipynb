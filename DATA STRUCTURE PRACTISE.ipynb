{
 "cells": [
  {
   "cell_type": "markdown",
   "id": "d15a40d9-f658-44b0-86b9-1cbad93c5c89",
   "metadata": {},
   "source": [
    "## Arrays ##"
   ]
  },
  {
   "cell_type": "markdown",
   "id": "57e87570-88cd-41d6-9f47-a86e4d8a5a41",
   "metadata": {},
   "source": [
    "*Max And Min elements in an array*"
   ]
  },
  {
   "cell_type": "code",
   "execution_count": 9,
   "id": "71acab4f-5f9f-4224-aafb-4a48156ae384",
   "metadata": {},
   "outputs": [
    {
     "name": "stdout",
     "output_type": "stream",
     "text": [
      "Minimum Element is:  3\n",
      "Maximum Element is:  5\n"
     ]
    }
   ],
   "source": [
    "# Divide And Conquer Method\n",
    "def getMinMax(low, high, arr):\n",
    "    arr_max = arr[high]\n",
    "    arr_min = arr[low]\n",
    "    # if thre is only one element\n",
    "    if low == high:\n",
    "        arr_max = arr[high]\n",
    "        arr_min = arr[low]\n",
    "        return (arr_max, arr_min)\n",
    "    # if there is only two elemnet \n",
    "    elif high == low +1 :\n",
    "        if arr[low] > arr[high]:\n",
    "            arr_max = arr[low]\n",
    "            arr_min = arr[high]\n",
    "        else:\n",
    "            arr_max = arr[high]\n",
    "            arr_min = arr[low]\n",
    "        return (arr_max, arr_min)\n",
    "    else: \n",
    "        # if there are more than two elements \n",
    "        mid = int((low + high) / 2)\n",
    "        arr_max1, arr_min1 = getMinMax(low, mid, arr)\n",
    "        arr_max2, arr_min2 = getMinMax(mid +1 , high, arr)\n",
    "    return (max(arr_max1, arr_max2), min(arr_min1, arr_min2))\n",
    "# Driver Code\n",
    "arr = [4, 3, 5]\n",
    "high = len(arr) -1\n",
    "low = 0\n",
    "arr_max, arr_min = getMinMax(low, high, arr)\n",
    "print(\"Minimum Element is: \", arr_min)\n",
    "print(\"Maximum Element is: \", arr_max)\n"
   ]
  },
  {
   "cell_type": "markdown",
   "id": "4862ef90-7f5e-4fa6-b640-08710d8fa6a6",
   "metadata": {},
   "source": [
    "*Reverse the array*"
   ]
  },
  {
   "cell_type": "code",
   "execution_count": 13,
   "id": "843dfb70-0e79-4384-a5f5-c1b964255f50",
   "metadata": {},
   "outputs": [
    {
     "name": "stdout",
     "output_type": "stream",
     "text": [
      "[1, 3, 5, 1, 5, 6]\n",
      "Reversed List is: \n",
      "[6, 5, 1, 5, 3, 1]\n"
     ]
    }
   ],
   "source": [
    "def reverseList(A, start, end):\n",
    "    while start < end:\n",
    "        A[start], A[end] = A[end], A[start]\n",
    "        start += 1\n",
    "        end -= 1\n",
    "# Driver Code\n",
    "A = [1,3,5, 1, 5, 6]\n",
    "print(A)\n",
    "reverseList(A, 0, 5)\n",
    "print(\"Reversed List is: \")\n",
    "print(A)"
   ]
  },
  {
   "cell_type": "code",
   "execution_count": 31,
   "id": "51f2145b-e912-4385-88d6-1732432e740c",
   "metadata": {},
   "outputs": [
    {
     "name": "stdout",
     "output_type": "stream",
     "text": [
      "[1, 3, 5, 1, 5, 6]\n",
      "Reversed List is: \n",
      "[6, 5, 1, 5, 3, 1]\n"
     ]
    }
   ],
   "source": [
    "# Python Slicing Method\n",
    "def reverseList(A):\n",
    "    print(A[::-1])\n",
    "A = [1,3,5, 1, 5, 6]\n",
    "print(A)\n",
    "\n",
    "print(\"Reversed List is: \")\n",
    "reverseList(A)"
   ]
  },
  {
   "cell_type": "markdown",
   "id": "94c0bc13-e345-4b71-b644-30e4858e3047",
   "metadata": {},
   "source": [
    "*Contains Duplicate*"
   ]
  },
  {
   "cell_type": "code",
   "execution_count": null,
   "id": "4c2e01ea-9f88-4fe4-872d-cf45c946e1ff",
   "metadata": {},
   "outputs": [],
   "source": []
  },
  {
   "cell_type": "code",
   "execution_count": 6,
   "id": "0e5b17e6-cbb4-4b16-8a67-913066684fca",
   "metadata": {},
   "outputs": [],
   "source": [
    "def check_duplicate(nums):\n",
    "    if nums == set(nums):\n",
    "        return False\n",
    "    else:\n",
    "        True\n",
    "check_duplicate([1,3,5,5,3,8])"
   ]
  },
  {
   "cell_type": "code",
   "execution_count": 13,
   "id": "4bd2ded7-d248-4ef8-8e99-0eca760a3e19",
   "metadata": {},
   "outputs": [
    {
     "data": {
      "text/plain": [
       "True"
      ]
     },
     "execution_count": 13,
     "metadata": {},
     "output_type": "execute_result"
    }
   ],
   "source": [
    "def check_duplicate(arr):\n",
    "    my_arr = set(arr)\n",
    "    if len(my_arr) == len(arr):\n",
    "        return False\n",
    "    else:\n",
    "        return True\n",
    "arr = [1,2,3,4,5,6,7,9,9]\n",
    "check_duplicate(arr)"
   ]
  },
  {
   "cell_type": "code",
   "execution_count": null,
   "id": "6fb18991-6a10-4b13-8cde-8903dac054bf",
   "metadata": {},
   "outputs": [],
   "source": []
  },
  {
   "cell_type": "markdown",
   "id": "21fbe002-5b7f-44ac-b354-1646c56de1ad",
   "metadata": {},
   "source": [
    "*Chocolate Distribution*"
   ]
  },
  {
   "cell_type": "code",
   "execution_count": null,
   "id": "c668aa40-256b-45a6-90fc-b358b61b88f6",
   "metadata": {},
   "outputs": [],
   "source": [
    "def findMinDiff(arr, n, m):\n",
    "    # if there are no chocltaes and students\n",
    "    if (m=0 or n=0):\n",
    "        return 0\n",
    "    \n",
    "    # sort give packets\n",
    "    arr.sort()\n",
    "    # no of student not more than packets\n",
    "    if (n < m):\n",
    "        return -1\n",
    "    # Largets no of chocolates\n",
    "    min_diff = arr"
   ]
  }
 ],
 "metadata": {
  "kernelspec": {
   "display_name": "Python 3 (ipykernel)",
   "language": "python",
   "name": "python3"
  },
  "language_info": {
   "codemirror_mode": {
    "name": "ipython",
    "version": 3
   },
   "file_extension": ".py",
   "mimetype": "text/x-python",
   "name": "python",
   "nbconvert_exporter": "python",
   "pygments_lexer": "ipython3",
   "version": "3.10.4"
  }
 },
 "nbformat": 4,
 "nbformat_minor": 5
}
