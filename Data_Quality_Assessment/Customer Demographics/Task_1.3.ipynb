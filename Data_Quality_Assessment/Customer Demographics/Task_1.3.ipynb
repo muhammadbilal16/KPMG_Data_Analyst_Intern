{
 "cells": [
  {
   "cell_type": "code",
   "execution_count": 1,
   "id": "31488422-0fda-49a4-b0ef-52928b3b9b8d",
   "metadata": {},
   "outputs": [],
   "source": [
    "# To access python data science libraries and visualise data and render plots in the Jupyter Notebook\n",
    "import numpy as np\n",
    "import scipy.stats as stats\n",
    "import pandas as pd\n",
    "import matplotlib.pyplot as plt\n",
    "%matplotlib inline"
   ]
  },
  {
   "cell_type": "code",
   "execution_count": 5,
   "id": "0aff46af-3eae-4cf1-9d34-6d72691dde41",
   "metadata": {},
   "outputs": [
    {
     "name": "stderr",
     "output_type": "stream",
     "text": [
      "C:\\Users\\Administrator\\AppData\\Local\\Temp\\ipykernel_8312\\919488981.py:2: FutureWarning: Inferring datetime64[ns] from data containing strings is deprecated and will be removed in a future version. To retain the old behavior explicitly pass Series(data, dtype=datetime64[ns])\n",
      "  pd3 = pd.read_excel(xls, sheet_name=3, header=1)\n"
     ]
    }
   ],
   "source": [
    "xls = pd.ExcelFile('KPMG_VI_New_raw_data_update_final.xlsx')\n",
    "pd3 = pd.read_excel(xls, sheet_name=3, header=1)"
   ]
  },
  {
   "cell_type": "code",
   "execution_count": 6,
   "id": "d882ee31-6237-4815-ad17-c4f04cb956b3",
   "metadata": {},
   "outputs": [],
   "source": [
    "df3 = pd.DataFrame(pd3)"
   ]
  },
  {
   "cell_type": "code",
   "execution_count": 8,
   "id": "15102ddd-3e29-45e6-afd6-1f476b605766",
   "metadata": {},
   "outputs": [
    {
     "data": {
      "text/html": [
       "<div>\n",
       "<style scoped>\n",
       "    .dataframe tbody tr th:only-of-type {\n",
       "        vertical-align: middle;\n",
       "    }\n",
       "\n",
       "    .dataframe tbody tr th {\n",
       "        vertical-align: top;\n",
       "    }\n",
       "\n",
       "    .dataframe thead th {\n",
       "        text-align: right;\n",
       "    }\n",
       "</style>\n",
       "<table border=\"1\" class=\"dataframe\">\n",
       "  <thead>\n",
       "    <tr style=\"text-align: right;\">\n",
       "      <th></th>\n",
       "      <th>customer_id</th>\n",
       "      <th>first_name</th>\n",
       "      <th>last_name</th>\n",
       "      <th>gender</th>\n",
       "      <th>past_3_years_bike_related_purchases</th>\n",
       "      <th>DOB</th>\n",
       "      <th>job_title</th>\n",
       "      <th>job_industry_category</th>\n",
       "      <th>wealth_segment</th>\n",
       "      <th>deceased_indicator</th>\n",
       "      <th>default</th>\n",
       "      <th>owns_car</th>\n",
       "      <th>tenure</th>\n",
       "    </tr>\n",
       "  </thead>\n",
       "  <tbody>\n",
       "    <tr>\n",
       "      <th>0</th>\n",
       "      <td>1</td>\n",
       "      <td>Laraine</td>\n",
       "      <td>Medendorp</td>\n",
       "      <td>F</td>\n",
       "      <td>93</td>\n",
       "      <td>1953-10-12</td>\n",
       "      <td>Executive Secretary</td>\n",
       "      <td>Health</td>\n",
       "      <td>Mass Customer</td>\n",
       "      <td>N</td>\n",
       "      <td>\"'</td>\n",
       "      <td>Yes</td>\n",
       "      <td>11.0</td>\n",
       "    </tr>\n",
       "    <tr>\n",
       "      <th>1</th>\n",
       "      <td>2</td>\n",
       "      <td>Eli</td>\n",
       "      <td>Bockman</td>\n",
       "      <td>Male</td>\n",
       "      <td>81</td>\n",
       "      <td>1980-12-16</td>\n",
       "      <td>Administrative Officer</td>\n",
       "      <td>Financial Services</td>\n",
       "      <td>Mass Customer</td>\n",
       "      <td>N</td>\n",
       "      <td>&lt;script&gt;alert('hi')&lt;/script&gt;</td>\n",
       "      <td>Yes</td>\n",
       "      <td>16.0</td>\n",
       "    </tr>\n",
       "  </tbody>\n",
       "</table>\n",
       "</div>"
      ],
      "text/plain": [
       "   customer_id first_name  last_name gender  \\\n",
       "0            1    Laraine  Medendorp      F   \n",
       "1            2        Eli    Bockman   Male   \n",
       "\n",
       "   past_3_years_bike_related_purchases        DOB               job_title  \\\n",
       "0                                   93 1953-10-12     Executive Secretary   \n",
       "1                                   81 1980-12-16  Administrative Officer   \n",
       "\n",
       "  job_industry_category wealth_segment deceased_indicator  \\\n",
       "0                Health  Mass Customer                  N   \n",
       "1    Financial Services  Mass Customer                  N   \n",
       "\n",
       "                        default owns_car  tenure  \n",
       "0                            \"'      Yes    11.0  \n",
       "1  <script>alert('hi')</script>      Yes    16.0  "
      ]
     },
     "execution_count": 8,
     "metadata": {},
     "output_type": "execute_result"
    }
   ],
   "source": [
    "df3.head(n=2)"
   ]
  },
  {
   "cell_type": "code",
   "execution_count": 9,
   "id": "2e5399da-ea09-40bd-8d41-07598496dd77",
   "metadata": {},
   "outputs": [
    {
     "name": "stdout",
     "output_type": "stream",
     "text": [
      "<class 'pandas.core.frame.DataFrame'>\n",
      "RangeIndex: 4000 entries, 0 to 3999\n",
      "Data columns (total 13 columns):\n",
      " #   Column                               Non-Null Count  Dtype         \n",
      "---  ------                               --------------  -----         \n",
      " 0   customer_id                          4000 non-null   int64         \n",
      " 1   first_name                           4000 non-null   object        \n",
      " 2   last_name                            3875 non-null   object        \n",
      " 3   gender                               4000 non-null   object        \n",
      " 4   past_3_years_bike_related_purchases  4000 non-null   int64         \n",
      " 5   DOB                                  3913 non-null   datetime64[ns]\n",
      " 6   job_title                            3494 non-null   object        \n",
      " 7   job_industry_category                3344 non-null   object        \n",
      " 8   wealth_segment                       4000 non-null   object        \n",
      " 9   deceased_indicator                   4000 non-null   object        \n",
      " 10  default                              3698 non-null   object        \n",
      " 11  owns_car                             4000 non-null   object        \n",
      " 12  tenure                               3913 non-null   float64       \n",
      "dtypes: datetime64[ns](1), float64(1), int64(2), object(9)\n",
      "memory usage: 406.4+ KB\n"
     ]
    }
   ],
   "source": [
    "df3.info()"
   ]
  },
  {
   "cell_type": "code",
   "execution_count": 11,
   "id": "ae022e1e-4d01-4a70-a187-4b9c14a8e4b0",
   "metadata": {},
   "outputs": [
    {
     "data": {
      "text/plain": [
       "customer_id                              0\n",
       "first_name                               0\n",
       "last_name                              125\n",
       "gender                                   0\n",
       "past_3_years_bike_related_purchases      0\n",
       "DOB                                     87\n",
       "job_title                              506\n",
       "job_industry_category                  656\n",
       "wealth_segment                           0\n",
       "deceased_indicator                       0\n",
       "default                                302\n",
       "owns_car                                 0\n",
       "tenure                                  87\n",
       "dtype: int64"
      ]
     },
     "execution_count": 11,
     "metadata": {},
     "output_type": "execute_result"
    }
   ],
   "source": [
    "df3.isnull().sum()"
   ]
  },
  {
   "cell_type": "code",
   "execution_count": 16,
   "id": "e0e0b3c8-e7d7-472a-8a49-bd1e1b221361",
   "metadata": {},
   "outputs": [],
   "source": [
    "drop_threshold = df3.shape[0]*0.5\n",
    "df3 = df3.dropna(thresh=drop_threshold, how='all', axis='columns').copy()"
   ]
  },
  {
   "cell_type": "code",
   "execution_count": 17,
   "id": "0acb346a-a024-482d-be2f-d2854c3d659c",
   "metadata": {},
   "outputs": [
    {
     "data": {
      "text/plain": [
       "customer_id                              0\n",
       "first_name                               0\n",
       "last_name                              125\n",
       "gender                                   0\n",
       "past_3_years_bike_related_purchases      0\n",
       "DOB                                     87\n",
       "job_title                              506\n",
       "job_industry_category                  656\n",
       "wealth_segment                           0\n",
       "deceased_indicator                       0\n",
       "default                                302\n",
       "owns_car                                 0\n",
       "tenure                                  87\n",
       "dtype: int64"
      ]
     },
     "execution_count": 17,
     "metadata": {},
     "output_type": "execute_result"
    }
   ],
   "source": [
    "df3.isnull().sum()"
   ]
  },
  {
   "cell_type": "code",
   "execution_count": 21,
   "id": "a60891bd-2e90-4d43-af7b-3d0f0f71ac42",
   "metadata": {},
   "outputs": [
    {
     "name": "stdout",
     "output_type": "stream",
     "text": [
      "('customer_id', True)\n",
      "('first_name', False)\n",
      "('last_name', False)\n",
      "('gender', False)\n",
      "('past_3_years_bike_related_purchases', False)\n",
      "('DOB', False)\n",
      "('job_title', False)\n",
      "('job_industry_category', False)\n",
      "('wealth_segment', False)\n",
      "('deceased_indicator', False)\n",
      "('default', False)\n",
      "('owns_car', False)\n",
      "('tenure', False)\n"
     ]
    }
   ],
   "source": [
    "# check for duplicate data\n",
    "column_names = df3.columns\n",
    "for i in column_names:\n",
    "    print((i, df3[i].is_unique))"
   ]
  },
  {
   "cell_type": "code",
   "execution_count": 22,
   "id": "cd082e75-a3af-4ce1-8542-385eb0c13f40",
   "metadata": {},
   "outputs": [],
   "source": [
    "# drop default col b/c it is corrupted\n",
    "del df3['default']"
   ]
  },
  {
   "cell_type": "code",
   "execution_count": 24,
   "id": "3375596b-ede4-41f1-9ff4-26e603ba27e6",
   "metadata": {},
   "outputs": [],
   "source": [
    "# make sure the ID only contain legitimate digits\n",
    "df3['customer_id'] = df3['customer_id'].astype('int64')"
   ]
  },
  {
   "cell_type": "code",
   "execution_count": 26,
   "id": "1b187fa8-8ac9-4634-802f-bf2c27e79157",
   "metadata": {},
   "outputs": [
    {
     "data": {
      "text/plain": [
       "Female    2037\n",
       "Male      1872\n",
       "U           88\n",
       "F            1\n",
       "Femal        1\n",
       "M            1\n",
       "Name: gender, dtype: int64"
      ]
     },
     "execution_count": 26,
     "metadata": {},
     "output_type": "execute_result"
    }
   ],
   "source": [
    "# check the entered data\n",
    "df3['gender'].value_counts()"
   ]
  },
  {
   "cell_type": "code",
   "execution_count": 28,
   "id": "4045ec96-53f6-4f5e-ba74-971fce96ea81",
   "metadata": {},
   "outputs": [],
   "source": [
    "# replace all the misspelt or differently formatted data\n",
    "df3['gender'].replace({'M' : 'Male', 'F' : 'Female', 'Femal' : 'Female'}, inplace=True)"
   ]
  },
  {
   "cell_type": "code",
   "execution_count": 30,
   "id": "582e7dfa-0d67-46bd-a261-4b4b00dadaa5",
   "metadata": {},
   "outputs": [
    {
     "data": {
      "text/plain": [
       "Business Systems Development Analyst    45\n",
       "Tax Accountant                          44\n",
       "Social Worker                           44\n",
       "Internal Auditor                        42\n",
       "Recruiting Manager                      41\n",
       "                                        ..\n",
       "Database Administrator I                 4\n",
       "Health Coach I                           3\n",
       "Health Coach III                         3\n",
       "Research Assistant III                   3\n",
       "Developer I                              1\n",
       "Name: job_title, Length: 195, dtype: int64"
      ]
     },
     "execution_count": 30,
     "metadata": {},
     "output_type": "execute_result"
    }
   ],
   "source": [
    "# check the frequency of different job titles\n",
    "df3['job_title'].value_counts()\n"
   ]
  },
  {
   "cell_type": "code",
   "execution_count": 32,
   "id": "10e48dad-7a0f-442b-b901-e496bfe85ecc",
   "metadata": {},
   "outputs": [],
   "source": [
    "df3['job_title'] = df3['job_title'].fillna(method='bfill')"
   ]
  },
  {
   "cell_type": "code",
   "execution_count": 33,
   "id": "2ef8d6c0-4857-47a7-be9e-26d713fab030",
   "metadata": {},
   "outputs": [
    {
     "data": {
      "text/plain": [
       "Manufacturing         799\n",
       "Financial Services    774\n",
       "Health                602\n",
       "Retail                358\n",
       "Property              267\n",
       "IT                    223\n",
       "Entertainment         136\n",
       "Argiculture           113\n",
       "Telecommunications     72\n",
       "Name: job_industry_category, dtype: int64"
      ]
     },
     "execution_count": 33,
     "metadata": {},
     "output_type": "execute_result"
    }
   ],
   "source": [
    "# check the frequency of job industries\n",
    "df3['job_industry_category'].value_counts()"
   ]
  },
  {
   "cell_type": "code",
   "execution_count": 35,
   "id": "72d9201e-d823-45c8-8516-f4285afb9c38",
   "metadata": {},
   "outputs": [],
   "source": [
    "# fill the missing datapoint using the forward filling method\n",
    "df3['job_industry_category']= df3['job_industry_category'].fillna(method='ffill')"
   ]
  },
  {
   "cell_type": "code",
   "execution_count": 36,
   "id": "b3c0b4cb-941e-4062-b322-1aab95a94bec",
   "metadata": {},
   "outputs": [
    {
     "data": {
      "text/plain": [
       "Manufacturing         959\n",
       "Financial Services    926\n",
       "Health                720\n",
       "Retail                433\n",
       "Property              320\n",
       "IT                    273\n",
       "Entertainment         158\n",
       "Argiculture           129\n",
       "Telecommunications     82\n",
       "Name: job_industry_category, dtype: int64"
      ]
     },
     "execution_count": 36,
     "metadata": {},
     "output_type": "execute_result"
    }
   ],
   "source": [
    "df3['job_industry_category'].value_counts()"
   ]
  },
  {
   "cell_type": "code",
   "execution_count": 37,
   "id": "d33ffbf6-c0fe-4f38-bfcd-b5245d743f81",
   "metadata": {},
   "outputs": [],
   "source": [
    "# make sure all dates are in the correct format\n",
    "df3['DOB'] = df3['DOB'].dt.date"
   ]
  },
  {
   "cell_type": "code",
   "execution_count": 38,
   "id": "f554145c-cc06-4bfe-b9ed-7a3ae16a55be",
   "metadata": {},
   "outputs": [],
   "source": [
    "# convert to boolean data type\n",
    "f = {'N':False, 'Y':True}\n",
    "df3['deceased_indicator'] = df3['deceased_indicator'].map(f)"
   ]
  },
  {
   "cell_type": "code",
   "execution_count": 40,
   "id": "5fce85cc-7911-4e33-920b-100893e6d588",
   "metadata": {},
   "outputs": [
    {
     "data": {
      "text/plain": [
       "False    3998\n",
       "True        2\n",
       "Name: deceased_indicator, dtype: int64"
      ]
     },
     "execution_count": 40,
     "metadata": {},
     "output_type": "execute_result"
    }
   ],
   "source": [
    "df3['deceased_indicator'].value_counts()"
   ]
  },
  {
   "cell_type": "code",
   "execution_count": 42,
   "id": "e5765c09-709d-4285-b84e-92ef14bd7aea",
   "metadata": {},
   "outputs": [],
   "source": [
    "# convert to boolean data type\n",
    "g = {'No': False, 'Yes': True}\n",
    "df3['owns_car'] = df3['owns_car'].map(g)"
   ]
  },
  {
   "cell_type": "code",
   "execution_count": 46,
   "id": "4bdf6b21-8e1c-4d88-9cc8-c3a8a2db1067",
   "metadata": {},
   "outputs": [
    {
     "data": {
      "text/plain": [
       "11.0"
      ]
     },
     "execution_count": 46,
     "metadata": {},
     "output_type": "execute_result"
    }
   ],
   "source": [
    "# calculate the median value for tenure\n",
    "np.nanmedian(df3['tenure'])"
   ]
  },
  {
   "cell_type": "code",
   "execution_count": 47,
   "id": "107e5283-b98d-4084-9c1c-cef892556e51",
   "metadata": {},
   "outputs": [],
   "source": [
    "# filling in the missing value for tenure\n",
    "df3['tenure'].fillna(value = 11.0, inplace = True)"
   ]
  },
  {
   "cell_type": "code",
   "execution_count": 48,
   "id": "363c262c-9cac-4e16-9931-9ea801687eca",
   "metadata": {},
   "outputs": [],
   "source": [
    "df3.columns = map(str.lower, df3.columns)\n",
    "df3.columns = map(str.strip, df3.columns)"
   ]
  },
  {
   "cell_type": "code",
   "execution_count": 51,
   "id": "54e82885-7f87-4296-aa35-77712d3bf673",
   "metadata": {},
   "outputs": [
    {
     "name": "stdout",
     "output_type": "stream",
     "text": [
      "<class 'pandas.core.frame.DataFrame'>\n",
      "RangeIndex: 4000 entries, 0 to 3999\n",
      "Data columns (total 12 columns):\n",
      " #   Column                               Non-Null Count  Dtype  \n",
      "---  ------                               --------------  -----  \n",
      " 0   customer_id                          4000 non-null   int64  \n",
      " 1   first_name                           4000 non-null   object \n",
      " 2   last_name                            3875 non-null   object \n",
      " 3   gender                               4000 non-null   object \n",
      " 4   past_3_years_bike_related_purchases  4000 non-null   int64  \n",
      " 5   dob                                  3913 non-null   object \n",
      " 6   job_title                            4000 non-null   object \n",
      " 7   job_industry_category                4000 non-null   object \n",
      " 8   wealth_segment                       4000 non-null   object \n",
      " 9   deceased_indicator                   4000 non-null   bool   \n",
      " 10  owns_car                             4000 non-null   bool   \n",
      " 11  tenure                               4000 non-null   float64\n",
      "dtypes: bool(2), float64(1), int64(2), object(7)\n",
      "memory usage: 320.4+ KB\n"
     ]
    }
   ],
   "source": [
    "#check the dataset after cleaning\n",
    "df3.info()"
   ]
  },
  {
   "cell_type": "code",
   "execution_count": 52,
   "id": "246d4e59-0188-426d-a165-f7db460d5223",
   "metadata": {},
   "outputs": [],
   "source": [
    "df3['last_name'] = df3['last_name'].fillna(method = 'ffill')"
   ]
  },
  {
   "cell_type": "code",
   "execution_count": 56,
   "id": "83e7efd5-77e0-4052-b090-5f5605ba11b8",
   "metadata": {},
   "outputs": [
    {
     "name": "stdout",
     "output_type": "stream",
     "text": [
      "<class 'pandas.core.frame.DataFrame'>\n",
      "RangeIndex: 4000 entries, 0 to 3999\n",
      "Data columns (total 12 columns):\n",
      " #   Column                               Non-Null Count  Dtype  \n",
      "---  ------                               --------------  -----  \n",
      " 0   customer_id                          4000 non-null   int64  \n",
      " 1   first_name                           4000 non-null   object \n",
      " 2   last_name                            4000 non-null   object \n",
      " 3   gender                               4000 non-null   object \n",
      " 4   past_3_years_bike_related_purchases  4000 non-null   int64  \n",
      " 5   dob                                  4000 non-null   object \n",
      " 6   job_title                            4000 non-null   object \n",
      " 7   job_industry_category                4000 non-null   object \n",
      " 8   wealth_segment                       4000 non-null   object \n",
      " 9   deceased_indicator                   4000 non-null   bool   \n",
      " 10  owns_car                             4000 non-null   bool   \n",
      " 11  tenure                               4000 non-null   float64\n",
      "dtypes: bool(2), float64(1), int64(2), object(7)\n",
      "memory usage: 320.4+ KB\n"
     ]
    }
   ],
   "source": [
    "df3.info()"
   ]
  },
  {
   "cell_type": "code",
   "execution_count": 55,
   "id": "6694ccbf-05b0-43f8-b9af-61383d1eddcb",
   "metadata": {},
   "outputs": [],
   "source": [
    "# fill the missing date of birth with a random choice of date from the existing datapoints\n",
    "df3['dob'].fillna(lambda x: np.random.choice(df3['dob']), inplace=True)"
   ]
  },
  {
   "cell_type": "code",
   "execution_count": null,
   "id": "7b7d3652-a6f4-4706-bd8b-f5f0906a6f0d",
   "metadata": {},
   "outputs": [],
   "source": []
  }
 ],
 "metadata": {
  "kernelspec": {
   "display_name": "Python 3 (ipykernel)",
   "language": "python",
   "name": "python3"
  },
  "language_info": {
   "codemirror_mode": {
    "name": "ipython",
    "version": 3
   },
   "file_extension": ".py",
   "mimetype": "text/x-python",
   "name": "python",
   "nbconvert_exporter": "python",
   "pygments_lexer": "ipython3",
   "version": "3.10.4"
  }
 },
 "nbformat": 4,
 "nbformat_minor": 5
}
