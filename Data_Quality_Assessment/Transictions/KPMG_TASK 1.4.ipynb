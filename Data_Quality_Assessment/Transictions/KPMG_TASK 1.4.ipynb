{
 "cells": [
  {
   "cell_type": "code",
   "execution_count": 1,
   "id": "26f46a0a-496f-44dd-84ef-0136eef7879a",
   "metadata": {},
   "outputs": [],
   "source": [
    "# To access python data science libraries and visualise data and render plots in the Jupyter Notebook\n",
    "import numpy as np\n",
    "import scipy.stats as stats\n",
    "import pandas as pd\n",
    "import matplotlib.pyplot as plt\n",
    "%matplotlib inline"
   ]
  },
  {
   "cell_type": "code",
   "execution_count": 14,
   "id": "2f0e4178-b21e-4510-9fd8-bd74e881b5c6",
   "metadata": {},
   "outputs": [],
   "source": [
    "# read in the excel datasets and put into a panda dataframe\n",
    "xls = pd.ExcelFile('KPMG_VI_New_raw_data_update_final.xlsx')\n",
    "pd4 = pd.read_excel(xls, sheet_name=1, header=1)"
   ]
  },
  {
   "cell_type": "code",
   "execution_count": 15,
   "id": "30f9ec35-6b8c-4c1d-90c1-8a9dc7130b3f",
   "metadata": {},
   "outputs": [],
   "source": [
    "df4 = pd.DataFrame(pd4)"
   ]
  },
  {
   "cell_type": "code",
   "execution_count": 16,
   "id": "9d36d8c5-bb5d-4863-ba1d-4306d56a5e77",
   "metadata": {},
   "outputs": [
    {
     "name": "stdout",
     "output_type": "stream",
     "text": [
      "<class 'pandas.core.frame.DataFrame'>\n",
      "RangeIndex: 20000 entries, 0 to 19999\n",
      "Data columns (total 13 columns):\n",
      " #   Column                   Non-Null Count  Dtype         \n",
      "---  ------                   --------------  -----         \n",
      " 0   transaction_id           20000 non-null  int64         \n",
      " 1   product_id               20000 non-null  int64         \n",
      " 2   customer_id              20000 non-null  int64         \n",
      " 3   transaction_date         20000 non-null  datetime64[ns]\n",
      " 4   online_order             19640 non-null  float64       \n",
      " 5   order_status             20000 non-null  object        \n",
      " 6   brand                    19803 non-null  object        \n",
      " 7   product_line             19803 non-null  object        \n",
      " 8   product_class            19803 non-null  object        \n",
      " 9   product_size             19803 non-null  object        \n",
      " 10  list_price               20000 non-null  float64       \n",
      " 11  standard_cost            19803 non-null  float64       \n",
      " 12  product_first_sold_date  19803 non-null  float64       \n",
      "dtypes: datetime64[ns](1), float64(4), int64(3), object(5)\n",
      "memory usage: 2.0+ MB\n"
     ]
    }
   ],
   "source": [
    "# check out datatypes, columns name, counts\n",
    "df4.info()"
   ]
  },
  {
   "cell_type": "code",
   "execution_count": 18,
   "id": "ba732c6c-f187-457a-bf13-81c4e7120551",
   "metadata": {},
   "outputs": [
    {
     "data": {
      "text/html": [
       "<div>\n",
       "<style scoped>\n",
       "    .dataframe tbody tr th:only-of-type {\n",
       "        vertical-align: middle;\n",
       "    }\n",
       "\n",
       "    .dataframe tbody tr th {\n",
       "        vertical-align: top;\n",
       "    }\n",
       "\n",
       "    .dataframe thead th {\n",
       "        text-align: right;\n",
       "    }\n",
       "</style>\n",
       "<table border=\"1\" class=\"dataframe\">\n",
       "  <thead>\n",
       "    <tr style=\"text-align: right;\">\n",
       "      <th></th>\n",
       "      <th>transaction_id</th>\n",
       "      <th>product_id</th>\n",
       "      <th>customer_id</th>\n",
       "      <th>transaction_date</th>\n",
       "      <th>online_order</th>\n",
       "      <th>order_status</th>\n",
       "      <th>brand</th>\n",
       "      <th>product_line</th>\n",
       "      <th>product_class</th>\n",
       "      <th>product_size</th>\n",
       "      <th>list_price</th>\n",
       "      <th>standard_cost</th>\n",
       "      <th>product_first_sold_date</th>\n",
       "    </tr>\n",
       "  </thead>\n",
       "  <tbody>\n",
       "    <tr>\n",
       "      <th>0</th>\n",
       "      <td>1</td>\n",
       "      <td>2</td>\n",
       "      <td>2950</td>\n",
       "      <td>2017-02-25</td>\n",
       "      <td>0.0</td>\n",
       "      <td>Approved</td>\n",
       "      <td>Solex</td>\n",
       "      <td>Standard</td>\n",
       "      <td>medium</td>\n",
       "      <td>medium</td>\n",
       "      <td>71.49</td>\n",
       "      <td>53.62</td>\n",
       "      <td>41245.0</td>\n",
       "    </tr>\n",
       "    <tr>\n",
       "      <th>1</th>\n",
       "      <td>2</td>\n",
       "      <td>3</td>\n",
       "      <td>3120</td>\n",
       "      <td>2017-05-21</td>\n",
       "      <td>1.0</td>\n",
       "      <td>Approved</td>\n",
       "      <td>Trek Bicycles</td>\n",
       "      <td>Standard</td>\n",
       "      <td>medium</td>\n",
       "      <td>large</td>\n",
       "      <td>2091.47</td>\n",
       "      <td>388.92</td>\n",
       "      <td>41701.0</td>\n",
       "    </tr>\n",
       "    <tr>\n",
       "      <th>2</th>\n",
       "      <td>3</td>\n",
       "      <td>37</td>\n",
       "      <td>402</td>\n",
       "      <td>2017-10-16</td>\n",
       "      <td>0.0</td>\n",
       "      <td>Approved</td>\n",
       "      <td>OHM Cycles</td>\n",
       "      <td>Standard</td>\n",
       "      <td>low</td>\n",
       "      <td>medium</td>\n",
       "      <td>1793.43</td>\n",
       "      <td>248.82</td>\n",
       "      <td>36361.0</td>\n",
       "    </tr>\n",
       "    <tr>\n",
       "      <th>3</th>\n",
       "      <td>4</td>\n",
       "      <td>88</td>\n",
       "      <td>3135</td>\n",
       "      <td>2017-08-31</td>\n",
       "      <td>0.0</td>\n",
       "      <td>Approved</td>\n",
       "      <td>Norco Bicycles</td>\n",
       "      <td>Standard</td>\n",
       "      <td>medium</td>\n",
       "      <td>medium</td>\n",
       "      <td>1198.46</td>\n",
       "      <td>381.10</td>\n",
       "      <td>36145.0</td>\n",
       "    </tr>\n",
       "    <tr>\n",
       "      <th>4</th>\n",
       "      <td>5</td>\n",
       "      <td>78</td>\n",
       "      <td>787</td>\n",
       "      <td>2017-10-01</td>\n",
       "      <td>1.0</td>\n",
       "      <td>Approved</td>\n",
       "      <td>Giant Bicycles</td>\n",
       "      <td>Standard</td>\n",
       "      <td>medium</td>\n",
       "      <td>large</td>\n",
       "      <td>1765.30</td>\n",
       "      <td>709.48</td>\n",
       "      <td>42226.0</td>\n",
       "    </tr>\n",
       "  </tbody>\n",
       "</table>\n",
       "</div>"
      ],
      "text/plain": [
       "   transaction_id  product_id  customer_id transaction_date  online_order  \\\n",
       "0               1           2         2950       2017-02-25           0.0   \n",
       "1               2           3         3120       2017-05-21           1.0   \n",
       "2               3          37          402       2017-10-16           0.0   \n",
       "3               4          88         3135       2017-08-31           0.0   \n",
       "4               5          78          787       2017-10-01           1.0   \n",
       "\n",
       "  order_status           brand product_line product_class product_size  \\\n",
       "0     Approved           Solex     Standard        medium       medium   \n",
       "1     Approved   Trek Bicycles     Standard        medium        large   \n",
       "2     Approved      OHM Cycles     Standard           low       medium   \n",
       "3     Approved  Norco Bicycles     Standard        medium       medium   \n",
       "4     Approved  Giant Bicycles     Standard        medium        large   \n",
       "\n",
       "   list_price  standard_cost  product_first_sold_date  \n",
       "0       71.49          53.62                  41245.0  \n",
       "1     2091.47         388.92                  41701.0  \n",
       "2     1793.43         248.82                  36361.0  \n",
       "3     1198.46         381.10                  36145.0  \n",
       "4     1765.30         709.48                  42226.0  "
      ]
     },
     "execution_count": 18,
     "metadata": {},
     "output_type": "execute_result"
    }
   ],
   "source": [
    "# check the first 5 records\n",
    "df4.head()"
   ]
  },
  {
   "cell_type": "code",
   "execution_count": 20,
   "id": "6e51ff61-7b74-40e8-a18c-295c1dbfaf12",
   "metadata": {},
   "outputs": [
    {
     "data": {
      "text/plain": [
       "transaction_id               0\n",
       "product_id                   0\n",
       "customer_id                  0\n",
       "transaction_date             0\n",
       "online_order               360\n",
       "order_status                 0\n",
       "brand                      197\n",
       "product_line               197\n",
       "product_class              197\n",
       "product_size               197\n",
       "list_price                   0\n",
       "standard_cost              197\n",
       "product_first_sold_date    197\n",
       "dtype: int64"
      ]
     },
     "execution_count": 20,
     "metadata": {},
     "output_type": "execute_result"
    }
   ],
   "source": [
    "# check for null values\n",
    "df4.isnull().sum()"
   ]
  },
  {
   "cell_type": "code",
   "execution_count": 21,
   "id": "0f59c966-3aae-498e-a253-44962a7d3149",
   "metadata": {},
   "outputs": [],
   "source": [
    "#sort the columns by customer id and transaction date\n",
    "df4 = df4.sort_values(['customer_id','transaction_date'])"
   ]
  },
  {
   "cell_type": "code",
   "execution_count": 22,
   "id": "d94d40f1-4e7d-429d-be60-c8cd2ffbfc82",
   "metadata": {},
   "outputs": [
    {
     "data": {
      "text/html": [
       "<div>\n",
       "<style scoped>\n",
       "    .dataframe tbody tr th:only-of-type {\n",
       "        vertical-align: middle;\n",
       "    }\n",
       "\n",
       "    .dataframe tbody tr th {\n",
       "        vertical-align: top;\n",
       "    }\n",
       "\n",
       "    .dataframe thead th {\n",
       "        text-align: right;\n",
       "    }\n",
       "</style>\n",
       "<table border=\"1\" class=\"dataframe\">\n",
       "  <thead>\n",
       "    <tr style=\"text-align: right;\">\n",
       "      <th></th>\n",
       "      <th>transaction_id</th>\n",
       "      <th>product_id</th>\n",
       "      <th>customer_id</th>\n",
       "      <th>transaction_date</th>\n",
       "      <th>online_order</th>\n",
       "      <th>order_status</th>\n",
       "      <th>brand</th>\n",
       "      <th>product_line</th>\n",
       "      <th>product_class</th>\n",
       "      <th>product_size</th>\n",
       "      <th>list_price</th>\n",
       "      <th>standard_cost</th>\n",
       "      <th>product_first_sold_date</th>\n",
       "    </tr>\n",
       "  </thead>\n",
       "  <tbody>\n",
       "    <tr>\n",
       "      <th>9784</th>\n",
       "      <td>9785</td>\n",
       "      <td>72</td>\n",
       "      <td>1</td>\n",
       "      <td>2017-01-05</td>\n",
       "      <td>0.0</td>\n",
       "      <td>Approved</td>\n",
       "      <td>Norco Bicycles</td>\n",
       "      <td>Standard</td>\n",
       "      <td>medium</td>\n",
       "      <td>medium</td>\n",
       "      <td>360.40</td>\n",
       "      <td>270.30</td>\n",
       "      <td>37873.0</td>\n",
       "    </tr>\n",
       "    <tr>\n",
       "      <th>13423</th>\n",
       "      <td>13424</td>\n",
       "      <td>2</td>\n",
       "      <td>1</td>\n",
       "      <td>2017-02-21</td>\n",
       "      <td>0.0</td>\n",
       "      <td>Approved</td>\n",
       "      <td>Solex</td>\n",
       "      <td>Standard</td>\n",
       "      <td>medium</td>\n",
       "      <td>medium</td>\n",
       "      <td>71.49</td>\n",
       "      <td>53.62</td>\n",
       "      <td>38573.0</td>\n",
       "    </tr>\n",
       "    <tr>\n",
       "      <th>14485</th>\n",
       "      <td>14486</td>\n",
       "      <td>23</td>\n",
       "      <td>1</td>\n",
       "      <td>2017-03-27</td>\n",
       "      <td>0.0</td>\n",
       "      <td>Approved</td>\n",
       "      <td>Norco Bicycles</td>\n",
       "      <td>Mountain</td>\n",
       "      <td>low</td>\n",
       "      <td>small</td>\n",
       "      <td>688.63</td>\n",
       "      <td>612.88</td>\n",
       "      <td>33455.0</td>\n",
       "    </tr>\n",
       "    <tr>\n",
       "      <th>18969</th>\n",
       "      <td>18970</td>\n",
       "      <td>11</td>\n",
       "      <td>1</td>\n",
       "      <td>2017-03-29</td>\n",
       "      <td>1.0</td>\n",
       "      <td>Approved</td>\n",
       "      <td>Giant Bicycles</td>\n",
       "      <td>Standard</td>\n",
       "      <td>high</td>\n",
       "      <td>medium</td>\n",
       "      <td>1274.93</td>\n",
       "      <td>764.96</td>\n",
       "      <td>35378.0</td>\n",
       "    </tr>\n",
       "    <tr>\n",
       "      <th>3764</th>\n",
       "      <td>3765</td>\n",
       "      <td>38</td>\n",
       "      <td>1</td>\n",
       "      <td>2017-04-06</td>\n",
       "      <td>1.0</td>\n",
       "      <td>Approved</td>\n",
       "      <td>Solex</td>\n",
       "      <td>Standard</td>\n",
       "      <td>medium</td>\n",
       "      <td>medium</td>\n",
       "      <td>1577.53</td>\n",
       "      <td>826.51</td>\n",
       "      <td>39526.0</td>\n",
       "    </tr>\n",
       "  </tbody>\n",
       "</table>\n",
       "</div>"
      ],
      "text/plain": [
       "       transaction_id  product_id  customer_id transaction_date  online_order  \\\n",
       "9784             9785          72            1       2017-01-05           0.0   \n",
       "13423           13424           2            1       2017-02-21           0.0   \n",
       "14485           14486          23            1       2017-03-27           0.0   \n",
       "18969           18970          11            1       2017-03-29           1.0   \n",
       "3764             3765          38            1       2017-04-06           1.0   \n",
       "\n",
       "      order_status           brand product_line product_class product_size  \\\n",
       "9784      Approved  Norco Bicycles     Standard        medium       medium   \n",
       "13423     Approved           Solex     Standard        medium       medium   \n",
       "14485     Approved  Norco Bicycles     Mountain           low        small   \n",
       "18969     Approved  Giant Bicycles     Standard          high       medium   \n",
       "3764      Approved           Solex     Standard        medium       medium   \n",
       "\n",
       "       list_price  standard_cost  product_first_sold_date  \n",
       "9784       360.40         270.30                  37873.0  \n",
       "13423       71.49          53.62                  38573.0  \n",
       "14485      688.63         612.88                  33455.0  \n",
       "18969     1274.93         764.96                  35378.0  \n",
       "3764      1577.53         826.51                  39526.0  "
      ]
     },
     "execution_count": 22,
     "metadata": {},
     "output_type": "execute_result"
    }
   ],
   "source": [
    "df4.head(n=5)"
   ]
  },
  {
   "cell_type": "code",
   "execution_count": 23,
   "id": "d3a6f7bd-3898-4460-88f7-6b9a48c68f31",
   "metadata": {},
   "outputs": [
    {
     "data": {
      "text/plain": [
       "1.0    9829\n",
       "0.0    9811\n",
       "Name: online_order, dtype: int64"
      ]
     },
     "execution_count": 23,
     "metadata": {},
     "output_type": "execute_result"
    }
   ],
   "source": [
    "# count the number of online order or otherwise\n",
    "df4['online_order'].value_counts()"
   ]
  },
  {
   "cell_type": "code",
   "execution_count": 25,
   "id": "9d64bbd6-66b3-4a3c-92ff-4b2bf79423ce",
   "metadata": {},
   "outputs": [],
   "source": [
    "# fill the missing data using the back-fill method\n",
    "df4['online_order'] = df4['online_order'].fillna(method='bfill')"
   ]
  },
  {
   "cell_type": "code",
   "execution_count": 26,
   "id": "de85f0ab-28e4-40f6-8123-5852e1b5d5f9",
   "metadata": {},
   "outputs": [
    {
     "data": {
      "text/plain": [
       "Solex             4253\n",
       "Giant Bicycles    3312\n",
       "WeareA2B          3295\n",
       "OHM Cycles        3043\n",
       "Trek Bicycles     2990\n",
       "Norco Bicycles    2910\n",
       "Name: brand, dtype: int64"
      ]
     },
     "execution_count": 26,
     "metadata": {},
     "output_type": "execute_result"
    }
   ],
   "source": [
    "# count the number of different brands\n",
    "df4['brand'].value_counts()"
   ]
  },
  {
   "cell_type": "code",
   "execution_count": 27,
   "id": "4b1d2cee-f482-40ac-8337-55b329ab96db",
   "metadata": {},
   "outputs": [],
   "source": [
    "# fill the missing data using the forward-fill method\n",
    "df4['brand'] = df4['brand'].fillna(method='ffill')\n"
   ]
  },
  {
   "cell_type": "code",
   "execution_count": 29,
   "id": "79f0c454-979c-4877-94f5-b0a6dba9d155",
   "metadata": {},
   "outputs": [
    {
     "data": {
      "text/plain": [
       "Standard    14176\n",
       "Road         3970\n",
       "Touring      1234\n",
       "Mountain      423\n",
       "Name: product_line, dtype: int64"
      ]
     },
     "execution_count": 29,
     "metadata": {},
     "output_type": "execute_result"
    }
   ],
   "source": [
    "# count the number of different product lines\n",
    "df4['product_line'].value_counts()"
   ]
  },
  {
   "cell_type": "code",
   "execution_count": 30,
   "id": "87f3aa41-f9fa-4931-a302-662590084eec",
   "metadata": {},
   "outputs": [],
   "source": [
    "# fill the missing data using the back-fill method\n",
    "df4['product_line'] = df4['product_line'].fillna(method='bfill')\n"
   ]
  },
  {
   "cell_type": "code",
   "execution_count": 33,
   "id": "c1a5e55f-47fc-4957-9cdc-92d5d8954409",
   "metadata": {},
   "outputs": [],
   "source": [
    "# fill the missing data using the back-fill method\n",
    "df4['product_class'] = df4['product_class'].fillna(method='bfill')\n",
    "# fill the missing data using the forward-fill method\n",
    "df4['product_size'] = df4['product_size'].fillna(method='ffill')"
   ]
  },
  {
   "cell_type": "code",
   "execution_count": 35,
   "id": "7aabae8f-7397-4bb4-b71c-f9f6892d877a",
   "metadata": {},
   "outputs": [
    {
     "data": {
      "text/html": [
       "<div>\n",
       "<style scoped>\n",
       "    .dataframe tbody tr th:only-of-type {\n",
       "        vertical-align: middle;\n",
       "    }\n",
       "\n",
       "    .dataframe tbody tr th {\n",
       "        vertical-align: top;\n",
       "    }\n",
       "\n",
       "    .dataframe thead th {\n",
       "        text-align: right;\n",
       "    }\n",
       "</style>\n",
       "<table border=\"1\" class=\"dataframe\">\n",
       "  <thead>\n",
       "    <tr style=\"text-align: right;\">\n",
       "      <th></th>\n",
       "      <th>transaction_id</th>\n",
       "      <th>product_id</th>\n",
       "      <th>online_order</th>\n",
       "      <th>list_price</th>\n",
       "      <th>standard_cost</th>\n",
       "      <th>product_first_sold_date</th>\n",
       "    </tr>\n",
       "    <tr>\n",
       "      <th>customer_id</th>\n",
       "      <th></th>\n",
       "      <th></th>\n",
       "      <th></th>\n",
       "      <th></th>\n",
       "      <th></th>\n",
       "      <th></th>\n",
       "    </tr>\n",
       "  </thead>\n",
       "  <tbody>\n",
       "    <tr>\n",
       "      <th>1</th>\n",
       "      <td>11,485.64</td>\n",
       "      <td>34.18</td>\n",
       "      <td>0.55</td>\n",
       "      <td>825.86</td>\n",
       "      <td>551.49</td>\n",
       "      <td>37,314.09</td>\n",
       "    </tr>\n",
       "    <tr>\n",
       "      <th>2</th>\n",
       "      <td>8,471.67</td>\n",
       "      <td>37.33</td>\n",
       "      <td>0.33</td>\n",
       "      <td>1,383.02</td>\n",
       "      <td>640.94</td>\n",
       "      <td>38,775.67</td>\n",
       "    </tr>\n",
       "    <tr>\n",
       "      <th>3</th>\n",
       "      <td>13,842.62</td>\n",
       "      <td>60.38</td>\n",
       "      <td>0.12</td>\n",
       "      <td>1,236.03</td>\n",
       "      <td>815.68</td>\n",
       "      <td>39,350.25</td>\n",
       "    </tr>\n",
       "    <tr>\n",
       "      <th>4</th>\n",
       "      <td>13,544.50</td>\n",
       "      <td>78.50</td>\n",
       "      <td>0.50</td>\n",
       "      <td>523.86</td>\n",
       "      <td>413.58</td>\n",
       "      <td>36,008.50</td>\n",
       "    </tr>\n",
       "    <tr>\n",
       "      <th>5</th>\n",
       "      <td>7,969.67</td>\n",
       "      <td>48.17</td>\n",
       "      <td>0.33</td>\n",
       "      <td>983.87</td>\n",
       "      <td>584.71</td>\n",
       "      <td>37,361.00</td>\n",
       "    </tr>\n",
       "    <tr>\n",
       "      <th>...</th>\n",
       "      <td>...</td>\n",
       "      <td>...</td>\n",
       "      <td>...</td>\n",
       "      <td>...</td>\n",
       "      <td>...</td>\n",
       "      <td>...</td>\n",
       "    </tr>\n",
       "    <tr>\n",
       "      <th>3497</th>\n",
       "      <td>8,565.00</td>\n",
       "      <td>32.33</td>\n",
       "      <td>0.67</td>\n",
       "      <td>1,248.02</td>\n",
       "      <td>698.58</td>\n",
       "      <td>38,680.33</td>\n",
       "    </tr>\n",
       "    <tr>\n",
       "      <th>3498</th>\n",
       "      <td>9,327.50</td>\n",
       "      <td>72.17</td>\n",
       "      <td>0.83</td>\n",
       "      <td>862.84</td>\n",
       "      <td>338.29</td>\n",
       "      <td>37,723.67</td>\n",
       "    </tr>\n",
       "    <tr>\n",
       "      <th>3499</th>\n",
       "      <td>6,871.29</td>\n",
       "      <td>42.71</td>\n",
       "      <td>0.57</td>\n",
       "      <td>1,096.21</td>\n",
       "      <td>388.32</td>\n",
       "      <td>38,163.86</td>\n",
       "    </tr>\n",
       "    <tr>\n",
       "      <th>3500</th>\n",
       "      <td>10,076.00</td>\n",
       "      <td>40.00</td>\n",
       "      <td>0.33</td>\n",
       "      <td>820.40</td>\n",
       "      <td>522.76</td>\n",
       "      <td>36,432.50</td>\n",
       "    </tr>\n",
       "    <tr>\n",
       "      <th>5034</th>\n",
       "      <td>14,292.67</td>\n",
       "      <td>0.00</td>\n",
       "      <td>0.00</td>\n",
       "      <td>506.64</td>\n",
       "      <td>416.81</td>\n",
       "      <td>37,254.67</td>\n",
       "    </tr>\n",
       "  </tbody>\n",
       "</table>\n",
       "<p>3494 rows × 6 columns</p>\n",
       "</div>"
      ],
      "text/plain": [
       "             transaction_id  product_id  online_order  list_price  \\\n",
       "customer_id                                                         \n",
       "1                 11,485.64       34.18          0.55      825.86   \n",
       "2                  8,471.67       37.33          0.33    1,383.02   \n",
       "3                 13,842.62       60.38          0.12    1,236.03   \n",
       "4                 13,544.50       78.50          0.50      523.86   \n",
       "5                  7,969.67       48.17          0.33      983.87   \n",
       "...                     ...         ...           ...         ...   \n",
       "3497               8,565.00       32.33          0.67    1,248.02   \n",
       "3498               9,327.50       72.17          0.83      862.84   \n",
       "3499               6,871.29       42.71          0.57    1,096.21   \n",
       "3500              10,076.00       40.00          0.33      820.40   \n",
       "5034              14,292.67        0.00          0.00      506.64   \n",
       "\n",
       "             standard_cost  product_first_sold_date  \n",
       "customer_id                                          \n",
       "1                   551.49                37,314.09  \n",
       "2                   640.94                38,775.67  \n",
       "3                   815.68                39,350.25  \n",
       "4                   413.58                36,008.50  \n",
       "5                   584.71                37,361.00  \n",
       "...                    ...                      ...  \n",
       "3497                698.58                38,680.33  \n",
       "3498                338.29                37,723.67  \n",
       "3499                388.32                38,163.86  \n",
       "3500                522.76                36,432.50  \n",
       "5034                416.81                37,254.67  \n",
       "\n",
       "[3494 rows x 6 columns]"
      ]
     },
     "execution_count": 35,
     "metadata": {},
     "output_type": "execute_result"
    }
   ],
   "source": [
    "# work out the average cost (to 2 d.p.) for each customer\n",
    "pd.options.display.float_format = '{:,.2f}'.format\n",
    "customerStandardCost = df4.groupby(['customer_id']).mean().round(decimals=2)\n",
    "customerStandardCost"
   ]
  },
  {
   "cell_type": "code",
   "execution_count": 36,
   "id": "3c613b0f-8010-4019-9ddd-23b7ad8d1c8d",
   "metadata": {},
   "outputs": [],
   "source": [
    "# fill the missing data with the average costs for that customer\n",
    "df4['standard_cost'] = df4['standard_cost'].fillna(customerStandardCost.standard_cost)"
   ]
  },
  {
   "cell_type": "code",
   "execution_count": 39,
   "id": "9fe6ac13-e35b-4f2b-89f8-d5ade2fe669d",
   "metadata": {},
   "outputs": [],
   "source": [
    "# fill the missing data with the average first sold date\n",
    "df4['product_first_sold_date'] = df4['product_first_sold_date'].fillna(df4['product_first_sold_date'].mean())"
   ]
  },
  {
   "cell_type": "code",
   "execution_count": 41,
   "id": "63b1765d-6ec5-49b8-84c0-64096d0e5832",
   "metadata": {},
   "outputs": [
    {
     "name": "stdout",
     "output_type": "stream",
     "text": [
      "<class 'pandas.core.frame.DataFrame'>\n",
      "Int64Index: 20000 entries, 9784 to 8707\n",
      "Data columns (total 13 columns):\n",
      " #   Column                   Non-Null Count  Dtype         \n",
      "---  ------                   --------------  -----         \n",
      " 0   transaction_id           20000 non-null  int64         \n",
      " 1   product_id               20000 non-null  int64         \n",
      " 2   customer_id              20000 non-null  int64         \n",
      " 3   transaction_date         20000 non-null  datetime64[ns]\n",
      " 4   online_order             20000 non-null  float64       \n",
      " 5   order_status             20000 non-null  object        \n",
      " 6   brand                    20000 non-null  object        \n",
      " 7   product_line             20000 non-null  object        \n",
      " 8   product_class            20000 non-null  object        \n",
      " 9   product_size             20000 non-null  object        \n",
      " 10  list_price               20000 non-null  float64       \n",
      " 11  standard_cost            19824 non-null  float64       \n",
      " 12  product_first_sold_date  20000 non-null  float64       \n",
      "dtypes: datetime64[ns](1), float64(4), int64(3), object(5)\n",
      "memory usage: 2.1+ MB\n"
     ]
    }
   ],
   "source": [
    "#check the dataset after cleaning\n",
    "df4.info()"
   ]
  },
  {
   "cell_type": "code",
   "execution_count": 42,
   "id": "2d686485-cc2c-4d53-ba0e-84f39767dded",
   "metadata": {},
   "outputs": [
    {
     "data": {
      "text/plain": [
       "176"
      ]
     },
     "execution_count": 42,
     "metadata": {},
     "output_type": "execute_result"
    }
   ],
   "source": [
    "df4['standard_cost'].isnull().sum()"
   ]
  },
  {
   "cell_type": "code",
   "execution_count": null,
   "id": "749dd335-5843-4bd3-929e-ba3d71152ebf",
   "metadata": {},
   "outputs": [],
   "source": []
  }
 ],
 "metadata": {
  "kernelspec": {
   "display_name": "Python 3 (ipykernel)",
   "language": "python",
   "name": "python3"
  },
  "language_info": {
   "codemirror_mode": {
    "name": "ipython",
    "version": 3
   },
   "file_extension": ".py",
   "mimetype": "text/x-python",
   "name": "python",
   "nbconvert_exporter": "python",
   "pygments_lexer": "ipython3",
   "version": "3.10.4"
  }
 },
 "nbformat": 4,
 "nbformat_minor": 5
}
